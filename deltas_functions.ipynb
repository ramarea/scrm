{
  "nbformat": 4,
  "nbformat_minor": 0,
  "metadata": {
    "colab": {
      "name": "deltas_functions.ipynb",
      "provenance": []
    },
    "kernelspec": {
      "name": "python3",
      "display_name": "Python 3"
    },
    "language_info": {
      "name": "python"
    }
  },
  "cells": [
    {
      "cell_type": "code",
      "metadata": {
        "id": "wijbCTPB4ZQa"
      },
      "source": [
        "import math\n",
        "import matplotlib.pyplot as plt\n",
        "import numpy as np\n",
        "import numpy.matlib\n"
      ],
      "execution_count": 10,
      "outputs": []
    },
    {
      "cell_type": "code",
      "metadata": {
        "id": "gFhmVt-dF8Ws"
      },
      "source": [
        "def bounded_prob_case(A):\n",
        "\n",
        "  '''\n",
        "\tFunction that takes as input the adjacency matrix and outputs the curing rates delta,\n",
        "  and the probability of infection in the setting of Theorem 11,\n",
        "  where the infection probability of node i is bounded by B_i.\n",
        "  \n",
        "  delta: n-dim vector with the curing rate of each node in equilibrium\n",
        "  prob: n-dim vector with the probability of infection of each node in stationarity by playing delta profile\n",
        "\n",
        "  B: n-dim vector with the probability bounds, according to Theorem 11. \n",
        "     Here, I have it uniformly random in [0,1] just to check. To find more\n",
        "     reasonable values.\n",
        "\n",
        "\t'''\n",
        "\n",
        "  delta = np.zeros(n)\n",
        "  prob = np.zeros(n)\n",
        "  B = np.random.rand(n)\n",
        "  #compute deltas\n",
        "  for i in range(n):\n",
        "    delta[i] = 1/B[i] * (1-B[i])*A[i,:]@B\n",
        "    prob[i] = A[i,:]@B / (A[i,:]@B + delta[i])  # is equal to B[i]\n",
        "\n",
        "  return delta, prob\n",
        "\n",
        "\n",
        "def optimal_coordination(A, alpha):\n",
        "\n",
        "  '''\n",
        "\tFunction that takes as input the adjacency matrix and the alpha and\n",
        "  outputs the curing rates delta, and the probability of infection\n",
        "  in the setting of Theorem 7 (alpha = 0  || network clean of viruses in stationarity)\n",
        "  and Lemma 8 (alpha \\in (0,1) || prob[i] = alpha for all i).\n",
        "  \n",
        "  delta: n-dim vector with the curing rate of each node in optimal solution || delta[i] =  (1-alpha)*(the degree of node i)\n",
        "  prob: n-dim vector with the probability of infection of each node in optimal soolution || prob[i] = alpha for all i\n",
        "\n",
        "  Intuiton: Every node invests a constant fraction of its degree\n",
        "\n",
        "\t'''\n",
        "\n",
        "  delta = np.zeros(n)\n",
        "  prob = alpha * np.ones(n)\n",
        "  e = np.ones(n)\n",
        "  for i in range(n):\n",
        "    delta[i] = (1-alpha) * (A[i,:]@e)\n",
        "    \n",
        "  return delta, prob\n"
      ],
      "execution_count": 11,
      "outputs": []
    },
    {
      "cell_type": "code",
      "metadata": {
        "id": "5qzryIQrJhnH"
      },
      "source": [
        "#setup of the adjanency matrices\n",
        "\n",
        "n = 6\n",
        "\n",
        "# Adjacency matrices\n",
        "A_1 = np.array([\n",
        "     [0, 0, 1, 0, 0, 0],\n",
        "     [0, 0, 0, 1, 0, 0],\n",
        "     [1, 0, 0, 0, 1, 0],\n",
        "     [0, 1, 0, 0, 0, 1],\n",
        "     [0, 0, 1, 0, 0, 0],\n",
        "     [0, 0, 0, 1, 0, 0]\n",
        "])\n",
        "\n",
        "A_2 = np.array([\n",
        "     [0, 0, 1, 0, 0, 0],\n",
        "     [0, 0, 0, 1, 0, 0],\n",
        "     [1, 0, 0, 0, 1, 1],\n",
        "     [0, 1, 0, 0, 1, 1],\n",
        "     [0, 0, 1, 1, 0, 0],\n",
        "     [0, 0, 1, 1, 0, 0]\n",
        "])\n",
        "\n",
        "A_3 = np.array([\n",
        "     [0, 0, 1, 1, 0, 0],\n",
        "     [0, 0, 1, 1, 0, 0],\n",
        "     [1, 1, 0, 0, 1, 0],\n",
        "     [1, 1, 0, 0, 0, 1],\n",
        "     [0, 0, 1, 0, 0, 0],\n",
        "     [0, 0, 0, 1, 0, 0]\n",
        "])\n",
        "\n",
        "A_4 = np.array([\n",
        "     [0, 0, 1, 1, 0, 0],\n",
        "     [0, 0, 1, 1, 0, 0],\n",
        "     [1, 1, 0, 0, 1, 1],\n",
        "     [1, 1, 0, 0, 1, 1],\n",
        "     [0, 0, 1, 1, 0, 0],\n",
        "     [0, 0, 1, 1, 0, 0]\n",
        "])\n"
      ],
      "execution_count": 12,
      "outputs": []
    },
    {
      "cell_type": "code",
      "metadata": {
        "id": "_81MM4cyBnxq"
      },
      "source": [
        ""
      ],
      "execution_count": 9,
      "outputs": []
    }
  ]
}